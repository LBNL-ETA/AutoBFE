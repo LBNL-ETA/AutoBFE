{
 "cells": [
  {
   "cell_type": "code",
   "execution_count": 1,
   "metadata": {},
   "outputs": [],
   "source": [
    "from dataprep.getdata import SatMask"
   ]
  },
  {
   "cell_type": "code",
   "execution_count": 2,
   "metadata": {},
   "outputs": [],
   "source": [
    "path = \"/Users/stouzani/Desktop/Unstructured_ML/Cities_projects/SF_test/\"\n",
    "features_path = path + \"SF_bldgs_footprint.geojson\"\n",
    "tiles_cover_path = path + \"SF_bldgs.csv\"\n",
    "zoom = 19\n",
    "size = 512\n",
    "url_map = \"https://api.mapbox.com/v4/mapbox.satellite/{z}/{x}/{y}@2x.jpg?access_token=pk.eyJ1Ijoic3RvdXphbmkiLCJhIjoiY2pzMTRtMzEzMDh5bjN5bzg2eDQ0N3FhYiJ9.5KKMQV5Qgl2ETj36mn4UXg\"\n",
    "image_format = \"jpg\"\n",
    "mask_format = \"png\"\n",
    "sat_path = path + \"images/\"\n",
    "num_workers = 10\n",
    "rast_path = path + \"masks/\""
   ]
  },
  {
   "cell_type": "code",
   "execution_count": 3,
   "metadata": {},
   "outputs": [],
   "source": [
    "satmask = SatMask(url_mapbox = url_map, image_format = image_format, mask_format = mask_format, tiles_cover_path = tiles_cover_path,sat_path = sat_path, gis_path = features_path, masks_path = rast_path, zoom = zoom, size = size ,num_workers = num_workers)"
   ]
  },
  {
   "cell_type": "code",
   "execution_count": 4,
   "metadata": {},
   "outputs": [],
   "source": [
    "satmask.tiles_cover()"
   ]
  },
  {
   "cell_type": "code",
   "execution_count": 6,
   "metadata": {},
   "outputs": [],
   "source": [
    "satmask.mapbox_download()"
   ]
  },
  {
   "cell_type": "code",
   "execution_count": 8,
   "metadata": {},
   "outputs": [],
   "source": [
    "colors  = ['denim', 'orange']\n",
    "satmask.map_feature(colors)"
   ]
  },
  {
   "cell_type": "code",
   "execution_count": 6,
   "metadata": {},
   "outputs": [],
   "source": [
    "train_tiles_cover_path = path + \"train_SF_bldgs.csv\"\n",
    "val_tiles_cover_path = path + \"val_SF_bldgs.csv\"\n",
    "test_tiles_cover_path = path + \"test_SF_bldgs.csv\""
   ]
  },
  {
   "cell_type": "code",
   "execution_count": 11,
   "metadata": {},
   "outputs": [
    {
     "name": "stdout",
     "output_type": "stream",
     "text": [
      "Size of training sample: (13503, 3)\n",
      "Size of validation sample: (13504, 3)\n"
     ]
    }
   ],
   "source": [
    "satmask.split_tiles_cover(rtrain = 0.5, rval = 0.5, rtest = 0, train_tiles_cover_path = train_tiles_cover_path, val_tiles_cover_path = val_tiles_cover_path, test_tiles_cover_path = test_tiles_cover_path)"
   ]
  },
  {
   "cell_type": "code",
   "execution_count": 12,
   "metadata": {},
   "outputs": [],
   "source": [
    "train_val_test_path = path + \"train_val_test/\""
   ]
  },
  {
   "cell_type": "code",
   "execution_count": 13,
   "metadata": {},
   "outputs": [],
   "source": [
    "satmask.split_data(train_val_test_path = train_val_test_path)"
   ]
  },
  {
   "cell_type": "code",
   "execution_count": 4,
   "metadata": {},
   "outputs": [],
   "source": [
    "satmask.delete_no_split()"
   ]
  },
  {
   "cell_type": "code",
   "execution_count": null,
   "metadata": {},
   "outputs": [],
   "source": []
  }
 ],
 "metadata": {
  "kernelspec": {
   "display_name": "Python (GIS)",
   "language": "python",
   "name": "gis"
  },
  "language_info": {
   "codemirror_mode": {
    "name": "ipython",
    "version": 3
   },
   "file_extension": ".py",
   "mimetype": "text/x-python",
   "name": "python",
   "nbconvert_exporter": "python",
   "pygments_lexer": "ipython3",
   "version": "3.7.1"
  }
 },
 "nbformat": 4,
 "nbformat_minor": 2
}
