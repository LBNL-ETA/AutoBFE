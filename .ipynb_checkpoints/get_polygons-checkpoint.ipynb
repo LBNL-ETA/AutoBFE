{
 "cells": [
  {
   "cell_type": "code",
   "execution_count": 1,
   "metadata": {},
   "outputs": [],
   "source": [
    "from postproc.postprocessing import get_polygons"
   ]
  },
  {
   "cell_type": "code",
   "execution_count": null,
   "metadata": {},
   "outputs": [],
   "source": [
    "pred_masks_path = '/Users/stouzani/Desktop/Unstructured_ML/Cities_projects/SF_test/prediction/diecewce/masks_probs8'\n",
    "polygons_path = '/Users/stouzani/Desktop/Unstructured_ML/Cities_projects/SF_test/prediction/diecewce/poly_masks_probs8.geojson'"
   ]
  }
 ],
 "metadata": {
  "kernelspec": {
   "display_name": "Python (GIS)",
   "language": "python",
   "name": "gis"
  },
  "language_info": {
   "codemirror_mode": {
    "name": "ipython",
    "version": 3
   },
   "file_extension": ".py",
   "mimetype": "text/x-python",
   "name": "python",
   "nbconvert_exporter": "python",
   "pygments_lexer": "ipython3",
   "version": "3.7.1"
  }
 },
 "nbformat": 4,
 "nbformat_minor": 2
}
