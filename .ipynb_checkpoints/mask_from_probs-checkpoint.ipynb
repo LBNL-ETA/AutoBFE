{
 "cells": [
  {
   "cell_type": "code",
   "execution_count": 121,
   "metadata": {},
   "outputs": [],
   "source": [
    "\n",
    "import csv\n",
    "import io\n",
    "import os\n",
    "\n",
    "import mercantile\n",
    "import numpy as np\n",
    "\n",
    "from tqdm import tqdm\n",
    "from PIL import Image\n",
    "from common.colors import make_palette"
   ]
  },
  {
   "cell_type": "code",
   "execution_count": null,
   "metadata": {},
   "outputs": [],
   "source": [
    "\n",
    "def main(args):\n",
    "    if args.weights and len(args.probs) != len(args.weights):\n",
    "        sys.exit(\"Error: number of slippy map directories and weights must be the same\")\n",
    "\n",
    "    tilesets = map(tiles_from_slippy_map, args.probs)\n",
    "\n",
    "    for tileset in tqdm(list(zip(*tilesets)), desc=\"Masks\", unit=\"tile\", ascii=True):\n",
    "        tiles = [tile for tile, _ in tileset]\n",
    "        paths = [path for _, path in tileset]\n",
    "\n",
    "        assert len(set(tiles)), \"tilesets in sync\"\n",
    "        x, y, z = tiles[0]\n",
    "\n",
    "        # Un-quantize the probabilities in [0,255] to floating point values in [0,1]\n",
    "        anchors = np.linspace(0, 1, 256)\n",
    "\n",
    "        def load(path):\n",
    "            # Note: assumes binary case and probability sums up to one.\n",
    "            # Needs to be in sync with how we store them in prediction.\n",
    "\n",
    "            quantized = np.array(Image.open(path).convert(\"P\"))\n",
    "\n",
    "            # (512, 512, 1) -> (1, 512, 512)\n",
    "            foreground = np.rollaxis(np.expand_dims(anchors[quantized], axis=0), axis=0)\n",
    "            background = np.rollaxis(1. - foreground, axis=0)\n",
    "\n",
    "            # (1, 512, 512) + (1, 512, 512) -> (2, 512, 512)\n",
    "            return np.concatenate((background, foreground), axis=0)\n",
    "\n",
    "        probs = [load(path) for path in paths]\n",
    "\n",
    "        mask = softvote(probs, axis=0, weights=args.weights)\n",
    "        mask = mask.astype(np.uint8)\n",
    "\n",
    "        palette = make_palette(\"denim\", \"orange\")\n",
    "        out = Image.fromarray(mask, mode=\"P\")\n",
    "        out.putpalette(palette)\n",
    "\n",
    "        os.makedirs(os.path.join(args.masks, str(z), str(x)), exist_ok=True)\n",
    "\n",
    "        path = os.path.join(args.masks, str(z), str(x), str(y) + \".png\")\n",
    "        out.save(path, optimize=True)\n",
    "\n",
    "\n",
    "def softvote(probs, axis=0, weights=None):\n",
    "    \"\"\"Weighted average soft-voting to transform class probabilities into class indices.\n",
    "\n",
    "    Args:\n",
    "      probs: array-like probabilities to average.\n",
    "      axis: axis or axes along which to soft-vote.\n",
    "      weights: array-like for weighting probabilities.\n",
    "\n",
    "    Notes:\n",
    "      See http://scikit-learn.org/stable/modules/ensemble.html#weighted-average-probabilities-soft-voting\n",
    "    \"\"\"\n",
    "\n",
    "    return np.argmax(np.average(probs, axis=axis, weights=weights), axis=axis)\n"
   ]
  },
  {
   "cell_type": "code",
   "execution_count": 2,
   "metadata": {},
   "outputs": [],
   "source": []
  },
  {
   "cell_type": "code",
   "execution_count": 138,
   "metadata": {},
   "outputs": [],
   "source": [
    "def tiles_from_directory(dir_path):\n",
    "    \"\"\"Loads files from a directory\n",
    "\n",
    "    Args:\n",
    "      root: the  directory with files that have a name with aslippy map structure \"z_x_y.*\"\"\n",
    "\n",
    "    Yields:\n",
    "      The mercantile tiles and file paths\n",
    "    \"\"\"\n",
    "    def isdigit(v):\n",
    "        try:\n",
    "            _ = int(v)  # noqa: F841\n",
    "            return True\n",
    "        except ValueError:\n",
    "            return False\n",
    "        \n",
    "    print(dir_path)\n",
    "    for name in os.listdir(dir_path):\n",
    "        tile_name = os.path.splitext(name)[0]\n",
    "        tile_name = tile_name.split(\"_\")\n",
    "        #print(tile_name)\n",
    "        if not isdigit(tile_name[0]):\n",
    "            continue\n",
    "        #print(tile_name)\n",
    "        x=int(tile_name[1])\n",
    "        y=int(tile_name[2])\n",
    "        z=int(tile_name[0])\n",
    "        tile = mercantile.Tile(x=x, y=y, z=z)\n",
    "        path = os.path.join(dir_path,\"{}_{}_{}.{}\".format(z,x,y,\"png\"))\n",
    "        #print(path)\n",
    "        yield tile, path\n",
    "\n",
    "\n",
    "            "
   ]
  },
  {
   "cell_type": "code",
   "execution_count": 123,
   "metadata": {},
   "outputs": [],
   "source": [
    "path = '/Users/stouzani/Desktop/Unstructured_ML/Cities_projects/SF_test/prediction/diecewce/probs'"
   ]
  },
  {
   "cell_type": "code",
   "execution_count": 124,
   "metadata": {},
   "outputs": [],
   "source": [
    "#tiles_from_directory(path)\n",
    "#tilesets = map(tiles_from_directory, probs_path)\n",
    "#print(list(zip(*tilesets)))\n",
    "#print(list(tiles_from_directory(probs_path)))\n"
   ]
  },
  {
   "cell_type": "code",
   "execution_count": 207,
   "metadata": {},
   "outputs": [],
   "source": [
    "def get_masks_from_probs(probs_path, masks_path):\n",
    "    \"\"\"generate masks from probabilities files\n",
    "\n",
    "    Args:\n",
    "      probs_path: the directory with probabilities files that have a name with aslippy map structure \"z_x_y.*\"\n",
    "      masks_path: directory where the masks will be saved\n",
    "\n",
    "    \"\"\"\n",
    "    #print(probs_path)\n",
    "\n",
    "#     tilesets = map(tiles_from_directory, probs_path)\n",
    "#     print(list(zip(*tilesets)))\n",
    "    \n",
    "    os.makedirs(masks_path, exist_ok=True)\n",
    "\n",
    "    for tileset in tqdm(list(tiles_from_directory(probs_path)), desc=\"masks\", unit=\"tile\", ascii=True):\n",
    "        print(tileset)\n",
    "        tiles = tileset[0] #[tile for tile, _ in tileset]\n",
    "        print(tiles)\n",
    "        paths = tileset[1]#[path for _, path in tileset]\n",
    "        print(paths)\n",
    "\n",
    "        assert len(set(tiles)), \"tilesets in sync\"\n",
    "        x, y, z = tiles\n",
    "\n",
    "        # Un-quantize the probabilities in [0,255] to floating point values in [0,1]\n",
    "        anchors = np.linspace(0, 1, 256)\n",
    "\n",
    "        def load(path):\n",
    "            # Note: assumes binary case and probability sums up to one.\n",
    "\n",
    "            quantized = np.array(Image.open(path).convert(\"P\"))\n",
    "\n",
    "            # (512, 512, 1) -> (1, 512, 512)\n",
    "            foreground = np.rollaxis(np.expand_dims(anchors[quantized], axis=0), axis=0)\n",
    "            background = np.rollaxis(1. - foreground, axis=0)\n",
    "\n",
    "            # (1, 512, 512) + (1, 512, 512) -> (2, 512, 512)\n",
    "            return np.concatenate((background, foreground), axis=0)\n",
    "\n",
    "        #[load(path) for path in paths]\n",
    "        print(probs.shape)\n",
    "\n",
    "        mask = np.argmax(probs, axis=0)\n",
    "        print(mask.shape)\n",
    "        mask = mask.astype(np.uint8)\n",
    "\n",
    "        palette = make_palette(\"denim\", \"orange\")\n",
    "        out = Image.fromarray(mask, mode=\"P\")\n",
    "        out.putpalette(palette)\n",
    "        \n",
    "        path = os.path.join(masks_path,\"{}_{}_{}.{}\".format(z,x,y,\"png\"))\n",
    "        print(path)\n",
    "\n",
    "        #path = os.path.join(args.masks, str(z), str(x), str(y) + \".png\")\n",
    "        out.save(path, optimize=True)\n",
    "\n"
   ]
  },
  {
   "cell_type": "code",
   "execution_count": 208,
   "metadata": {},
   "outputs": [],
   "source": [
    "probs_path = '/Users/stouzani/Desktop/Unstructured_ML/Cities_projects/SF_test/prediction/diecewce/probs/'\n",
    "masks_path = '/Users/stouzani/Desktop/Unstructured_ML/Cities_projects/SF_test/prediction/diecewce/masks_probs5'"
   ]
  },
  {
   "cell_type": "code",
   "execution_count": 209,
   "metadata": {},
   "outputs": [
    {
     "name": "stderr",
     "output_type": "stream",
     "text": [
      "masks:   0%|          | 0/5392 [00:00<?, ?tile/s]"
     ]
    },
    {
     "name": "stdout",
     "output_type": "stream",
     "text": [
      "/Users/stouzani/Desktop/Unstructured_ML/Cities_projects/SF_test/prediction/diecewce/probs/\n",
      "(Tile(x=83817, y=202588, z=19), '/Users/stouzani/Desktop/Unstructured_ML/Cities_projects/SF_test/prediction/diecewce/probs/19_83817_202588.png')\n",
      "Tile(x=83817, y=202588, z=19)\n",
      "/Users/stouzani/Desktop/Unstructured_ML/Cities_projects/SF_test/prediction/diecewce/probs/19_83817_202588.png\n"
     ]
    },
    {
     "name": "stderr",
     "output_type": "stream",
     "text": [
      "\n"
     ]
    },
    {
     "ename": "TypeError",
     "evalue": "cannot unpack non-iterable int object",
     "output_type": "error",
     "traceback": [
      "\u001b[0;31m---------------------------------------------------------------------------\u001b[0m",
      "\u001b[0;31mTypeError\u001b[0m                                 Traceback (most recent call last)",
      "\u001b[0;32m<ipython-input-209-a4f7512d9450>\u001b[0m in \u001b[0;36m<module>\u001b[0;34m\u001b[0m\n\u001b[0;32m----> 1\u001b[0;31m \u001b[0mget_masks_from_probs\u001b[0m\u001b[0;34m(\u001b[0m\u001b[0mprobs_path\u001b[0m\u001b[0;34m,\u001b[0m \u001b[0mmasks_path\u001b[0m\u001b[0;34m)\u001b[0m\u001b[0;34m\u001b[0m\u001b[0;34m\u001b[0m\u001b[0m\n\u001b[0m",
      "\u001b[0;32m<ipython-input-207-80d7fe463414>\u001b[0m in \u001b[0;36mget_masks_from_probs\u001b[0;34m(probs_path, masks_path)\u001b[0m\n\u001b[1;32m     22\u001b[0m \u001b[0;34m\u001b[0m\u001b[0m\n\u001b[1;32m     23\u001b[0m         \u001b[0;32massert\u001b[0m \u001b[0mlen\u001b[0m\u001b[0;34m(\u001b[0m\u001b[0mset\u001b[0m\u001b[0;34m(\u001b[0m\u001b[0mtiles\u001b[0m\u001b[0;34m)\u001b[0m\u001b[0;34m)\u001b[0m\u001b[0;34m,\u001b[0m \u001b[0;34m\"tilesets in sync\"\u001b[0m\u001b[0;34m\u001b[0m\u001b[0;34m\u001b[0m\u001b[0m\n\u001b[0;32m---> 24\u001b[0;31m         \u001b[0mx\u001b[0m\u001b[0;34m,\u001b[0m \u001b[0my\u001b[0m\u001b[0;34m,\u001b[0m \u001b[0mz\u001b[0m \u001b[0;34m=\u001b[0m \u001b[0mtiles\u001b[0m\u001b[0;34m[\u001b[0m\u001b[0;36m0\u001b[0m\u001b[0;34m]\u001b[0m\u001b[0;34m\u001b[0m\u001b[0;34m\u001b[0m\u001b[0m\n\u001b[0m\u001b[1;32m     25\u001b[0m \u001b[0;34m\u001b[0m\u001b[0m\n\u001b[1;32m     26\u001b[0m         \u001b[0;31m# Un-quantize the probabilities in [0,255] to floating point values in [0,1]\u001b[0m\u001b[0;34m\u001b[0m\u001b[0;34m\u001b[0m\u001b[0;34m\u001b[0m\u001b[0m\n",
      "\u001b[0;31mTypeError\u001b[0m: cannot unpack non-iterable int object"
     ]
    }
   ],
   "source": [
    "get_masks_from_probs(probs_path, masks_path)"
   ]
  },
  {
   "cell_type": "code",
   "execution_count": 199,
   "metadata": {},
   "outputs": [],
   "source": [
    "def get_masks_from_probs2(probs_path, masks_path,weights):\n",
    "    \"\"\"generate masks from probabilities files\n",
    "\n",
    "    Args:\n",
    "      probs_path: the directory with probabilities files that have a name with aslippy map structure \"z_x_y.*\"\n",
    "      masks_path: directory where the masks will be saved\n",
    "\n",
    "    \"\"\"\n",
    "    if weights and len(probs_path) != len(weights):\n",
    "        sys.exit(\"Error: number of slippy map directories and weights must be the same\")\n",
    "    #print(probs_path)\n",
    "\n",
    "    tilesets = map(tiles_from_directory, probs_path)\n",
    "    #print(list(zip(*tilesets)))\n",
    "    \n",
    "    os.makedirs(masks_path, exist_ok=True)\n",
    "\n",
    "    for tileset in tqdm(list(zip(*tilesets)), desc=\"masks\", unit=\"tile\", ascii=True):\n",
    "        tiles = [tile for tile, _ in tileset]\n",
    "        paths = [path for _, path in tileset]\n",
    "\n",
    "        assert len(set(tiles))==3, \"tilesets in sync\"\n",
    "        x, y, z = tiles[0]\n",
    "        #print(x)\n",
    "        #print(tiles[0])\n",
    "\n",
    "#         assert len(set(tiles)), \"tilesets in sync\"\n",
    "        #x, y, z = tiles\n",
    "\n",
    "        # Un-quantize the probabilities in [0,255] to floating point values in [0,1]\n",
    "        anchors = np.linspace(0, 1, 256)\n",
    "\n",
    "        def load(path):\n",
    "            # Note: assumes binary case and probability sums up to one.\n",
    "\n",
    "            quantized = np.array(Image.open(path).convert(\"P\"))\n",
    "\n",
    "            # (512, 512, 1) -> (1, 512, 512)\n",
    "            foreground = np.rollaxis(np.expand_dims(anchors[quantized], axis=0), axis=0)\n",
    "            background = np.rollaxis(1. - foreground, axis=0)\n",
    "\n",
    "            # (1, 512, 512) + (1, 512, 512) -> (2, 512, 512)\n",
    "            return np.concatenate((background, foreground), axis=0)\n",
    "\n",
    "        probs = [load(path) for path in paths]\n",
    "\n",
    "        mask = softvote(probs, axis=0, weights=weights)\n",
    "        mask = mask.astype(np.uint8)\n",
    "\n",
    "        palette = make_palette(\"denim\", \"orange\")\n",
    "        out = Image.fromarray(mask, mode=\"P\")\n",
    "        out.putpalette(palette)\n",
    "        \n",
    "        path = os.path.join(masks_path,\"{}_{}_{}.{}\".format(z,x,y,\"png\"))\n",
    "        #print(path)\n",
    "\n",
    "        #path = os.path.join(args.masks, str(z), str(x), str(y) + \".png\")\n",
    "        out.save(path, optimize=True)\n",
    "\n",
    "# def softvote(probs, axis=0, weights=None):\n",
    "#     \"\"\"Weighted average soft-voting to transform class probabilities into class indices.\n",
    "\n",
    "#     Args:\n",
    "#       probs: array-like probabilities to average.\n",
    "#       axis: axis or axes along which to soft-vote.\n",
    "#       weights: array-like for weighting probabilities.\n",
    "\n",
    "#     Notes:\n",
    "#       See http://scikit-learn.org/stable/modules/ensemble.html#weighted-average-probabilities-soft-voting\n",
    "#     \"\"\"\n",
    "\n",
    "#     return np.argmax(probs, axis=axis)\n",
    "\n",
    "\n",
    "def softvote(probs, axis=0, weights=None):\n",
    "    \"\"\"Weighted average soft-voting to transform class probabilities into class indices.\n",
    "\n",
    "    Args:\n",
    "      probs: array-like probabilities to average.\n",
    "      axis: axis or axes along which to soft-vote.\n",
    "      weights: array-like for weighting probabilities.\n",
    "\n",
    "    Notes:\n",
    "      See http://scikit-learn.org/stable/modules/ensemble.html#weighted-average-probabilities-soft-voting\n",
    "    \"\"\"\n",
    "\n",
    "    return np.argmax(np.average(probs, axis=axis, weights=weights), axis=axis)\n"
   ]
  },
  {
   "cell_type": "code",
   "execution_count": 200,
   "metadata": {},
   "outputs": [],
   "source": [
    "probs_path2 = ['/Users/stouzani/Desktop/Unstructured_ML/Cities_projects/SF_test/prediction/diecewce/probs/',\n",
    "              '/Users/stouzani/Desktop/Unstructured_ML/Cities_projects/SF_test/prediction/diecece/probs/']\n",
    "\n",
    "masks_path2 = '/Users/stouzani/Desktop/Unstructured_ML/Cities_projects/SF_test/prediction/diecewce/masks_probs4'\n",
    "\n",
    "weights = [.85,.15]"
   ]
  },
  {
   "cell_type": "code",
   "execution_count": 201,
   "metadata": {},
   "outputs": [
    {
     "data": {
      "text/plain": [
       "2"
      ]
     },
     "execution_count": 201,
     "metadata": {},
     "output_type": "execute_result"
    }
   ],
   "source": [
    "len(probs_path2)"
   ]
  },
  {
   "cell_type": "code",
   "execution_count": 202,
   "metadata": {},
   "outputs": [
    {
     "name": "stderr",
     "output_type": "stream",
     "text": [
      "masks:   0%|          | 0/5392 [00:00<?, ?tile/s]"
     ]
    },
    {
     "name": "stdout",
     "output_type": "stream",
     "text": [
      "/Users/stouzani/Desktop/Unstructured_ML/Cities_projects/SF_test/prediction/diecewce/probs/\n",
      "/Users/stouzani/Desktop/Unstructured_ML/Cities_projects/SF_test/prediction/diecece/probs/\n",
      "[Tile(x=83817, y=202588, z=19), Tile(x=83817, y=202588, z=19)]\n",
      "{Tile(x=83817, y=202588, z=19)}\n"
     ]
    },
    {
     "name": "stderr",
     "output_type": "stream",
     "text": [
      "\n"
     ]
    },
    {
     "ename": "AssertionError",
     "evalue": "tilesets in sync",
     "output_type": "error",
     "traceback": [
      "\u001b[0;31m---------------------------------------------------------------------------\u001b[0m",
      "\u001b[0;31mAssertionError\u001b[0m                            Traceback (most recent call last)",
      "\u001b[0;32m<ipython-input-202-c8306172aeed>\u001b[0m in \u001b[0;36m<module>\u001b[0;34m\u001b[0m\n\u001b[0;32m----> 1\u001b[0;31m \u001b[0mget_masks_from_probs2\u001b[0m\u001b[0;34m(\u001b[0m\u001b[0mprobs_path2\u001b[0m\u001b[0;34m,\u001b[0m \u001b[0mmasks_path2\u001b[0m\u001b[0;34m,\u001b[0m\u001b[0mweights\u001b[0m\u001b[0;34m)\u001b[0m\u001b[0;34m\u001b[0m\u001b[0;34m\u001b[0m\u001b[0m\n\u001b[0m",
      "\u001b[0;32m<ipython-input-199-a8fd8e47e383>\u001b[0m in \u001b[0;36mget_masks_from_probs2\u001b[0;34m(probs_path, masks_path, weights)\u001b[0m\n\u001b[1;32m     22\u001b[0m         \u001b[0mprint\u001b[0m\u001b[0;34m(\u001b[0m\u001b[0mset\u001b[0m\u001b[0;34m(\u001b[0m\u001b[0mtiles\u001b[0m\u001b[0;34m)\u001b[0m\u001b[0;34m)\u001b[0m\u001b[0;34m\u001b[0m\u001b[0;34m\u001b[0m\u001b[0m\n\u001b[1;32m     23\u001b[0m \u001b[0;34m\u001b[0m\u001b[0m\n\u001b[0;32m---> 24\u001b[0;31m         \u001b[0;32massert\u001b[0m \u001b[0mlen\u001b[0m\u001b[0;34m(\u001b[0m\u001b[0mset\u001b[0m\u001b[0;34m(\u001b[0m\u001b[0mtiles\u001b[0m\u001b[0;34m)\u001b[0m\u001b[0;34m)\u001b[0m\u001b[0;34m==\u001b[0m\u001b[0;36m3\u001b[0m\u001b[0;34m,\u001b[0m \u001b[0;34m\"tilesets in sync\"\u001b[0m\u001b[0;34m\u001b[0m\u001b[0;34m\u001b[0m\u001b[0m\n\u001b[0m\u001b[1;32m     25\u001b[0m         \u001b[0mx\u001b[0m\u001b[0;34m,\u001b[0m \u001b[0my\u001b[0m\u001b[0;34m,\u001b[0m \u001b[0mz\u001b[0m \u001b[0;34m=\u001b[0m \u001b[0mtiles\u001b[0m\u001b[0;34m[\u001b[0m\u001b[0;36m0\u001b[0m\u001b[0;34m]\u001b[0m\u001b[0;34m\u001b[0m\u001b[0;34m\u001b[0m\u001b[0m\n\u001b[1;32m     26\u001b[0m         \u001b[0;31m#print(x)\u001b[0m\u001b[0;34m\u001b[0m\u001b[0;34m\u001b[0m\u001b[0;34m\u001b[0m\u001b[0m\n",
      "\u001b[0;31mAssertionError\u001b[0m: tilesets in sync"
     ]
    }
   ],
   "source": [
    "get_masks_from_probs2(probs_path2, masks_path2,weights)"
   ]
  },
  {
   "cell_type": "code",
   "execution_count": null,
   "metadata": {},
   "outputs": [],
   "source": []
  },
  {
   "cell_type": "code",
   "execution_count": null,
   "metadata": {},
   "outputs": [],
   "source": []
  },
  {
   "cell_type": "code",
   "execution_count": null,
   "metadata": {},
   "outputs": [],
   "source": []
  },
  {
   "cell_type": "code",
   "execution_count": null,
   "metadata": {},
   "outputs": [],
   "source": []
  },
  {
   "cell_type": "code",
   "execution_count": 12,
   "metadata": {},
   "outputs": [],
   "source": [
    "import csv\n",
    "import io\n",
    "import os\n",
    "import sys\n",
    "import mercantile\n",
    "import numpy as np\n",
    "\n",
    "from tqdm import tqdm\n",
    "from PIL import Image\n",
    "from common.colors import make_palette\n",
    "\n",
    "\n",
    "\n",
    "\n",
    "def get_masks_from_probs(probs_path, masks_path,weights=None):\n",
    "    \"\"\"generate masks from probabilities files\n",
    "\n",
    "    Args:\n",
    "      probs_path: list of the directory with probabilities files that have a name with aslippy map structure \"z_x_y.png\"\n",
    "      masks_path: directory where the masks will be saved\n",
    "      weights: array-like for weighting probabilities\n",
    "\n",
    "    \"\"\"\n",
    "    if weights and len(probs_path) != len(weights):\n",
    "        sys.exit(\"Error: number of probs directories and weights must be the same\")\n",
    "\n",
    "    os.makedirs(masks_path, exist_ok=True)\n",
    "    \n",
    "    print(len(probs_path))\n",
    "    tilesets = map(tiles_from_directory, probs_path)\n",
    "    list_tilesets = list(zip(*tilesets))\n",
    "\n",
    "#     if len(probs_path) == 1:\n",
    "#         tilesets = map(tiles_from_directory, probs_path)\n",
    "#         list_tilesets = list(zip(*tilesets))\n",
    "#     else:\n",
    "#         list_tilesets = list(tiles_from_directory(probs_path)) \n",
    "\n",
    "    for tileset in tqdm(list_tilesets, desc=\"masks\", unit=\"tile\", ascii=True):\n",
    "        # normalize the probabilities in [0,255] to floating point values in [0,1]\n",
    "        anchors = np.linspace(0, 1, 256)\n",
    "        tiles = [tile for tile, _ in tileset]\n",
    "        paths = [path for _, path in tileset]\n",
    "        assert len(set(tiles)), \"tilesets in sync\"\n",
    "        x, y, z = tiles[0]\n",
    "        probs = [probs_load(path,anchors) for path in paths]\n",
    "        mask = softvote(probs, axis=0, weights=weights)\n",
    "\n",
    "#         if len(probs_path) == 1:\n",
    "#             tiles = [tile for tile, _ in tileset]\n",
    "#             paths = [path for _, path in tileset]\n",
    "#             assert len(set(tiles)), \"tilesets in sync\"\n",
    "#             x, y, z = tiles[0]\n",
    "#             probs = [probs_load(path,anchors) for path in paths]\n",
    "#             mask = softvote(probs, axis=0, weights=weights)\n",
    "#         else:\n",
    "#             tiles = tileset[0]\n",
    "#             paths = tileset[1]\n",
    "#             assert len(set(tiles)), \"tilesets in sync\"\n",
    "#             x, y, z = tiles\n",
    "#             probs = probs_load(paths, anchors) \n",
    "#             mask = np.argmax(probs, axis=0)\n",
    "        \n",
    "        mask = mask.astype(np.uint8)\n",
    "\n",
    "        palette = make_palette(\"denim\", \"orange\")\n",
    "        out = Image.fromarray(mask, mode=\"P\")\n",
    "        out.putpalette(palette)\n",
    "        \n",
    "        path = os.path.join(masks_path,\"{}_{}_{}.{}\".format(z,x,y,\"png\"))\n",
    "        out.save(path, optimize=True)\n",
    "\n",
    "def tiles_from_directory(dir_path):\n",
    "    \"\"\"Loads files from a directory\n",
    "\n",
    "    Args:\n",
    "      root: the  directory with files that have a name with aslippy map structure \"z_x_y.*\"\"\n",
    "\n",
    "    Yields:\n",
    "      The mercantile tiles and file paths\n",
    "    \"\"\"\n",
    "    def isdigit(v):\n",
    "        try:\n",
    "            _ = int(v)  # noqa: F841\n",
    "            return True\n",
    "        except ValueError:\n",
    "            return False\n",
    "        \n",
    "    print(dir_path)\n",
    "    for name in os.listdir(dir_path):\n",
    "        tile_name = os.path.splitext(name)[0]\n",
    "        tile_name = tile_name.split(\"_\")\n",
    "        if not isdigit(tile_name[0]):\n",
    "            continue\n",
    "        x=int(tile_name[1])\n",
    "        y=int(tile_name[2])\n",
    "        z=int(tile_name[0])\n",
    "        tile = mercantile.Tile(x=x, y=y, z=z)\n",
    "        path = os.path.join(dir_path,\"{}_{}_{}.{}\".format(z,x,y,\"png\"))\n",
    "        yield tile, path\n",
    "\n",
    "\n",
    "def softvote(probs, axis=0, weights=None):\n",
    "    \"\"\"Weighted average soft-voting to transform class probabilities into class indices.\n",
    "\n",
    "    Args:\n",
    "      probs: array-like probabilities to average.\n",
    "      axis: axis or axes along which to soft-vote.\n",
    "      weights: array-like for weighting probabilities.\n",
    "\n",
    "    Notes:\n",
    "      See http://scikit-learn.org/stable/modules/ensemble.html#weighted-average-probabilities-soft-voting\n",
    "    \"\"\"\n",
    "\n",
    "    return np.argmax(np.average(probs, axis=axis, weights=weights), axis=axis)\n",
    "\n",
    "def probs_load(path,anchors):\n",
    "    # Note: assumes binary case and probability sums up to one.\n",
    "\n",
    "    quantized = np.array(Image.open(path).convert(\"P\"))\n",
    "\n",
    "    # (512, 512, 1) -> (1, 512, 512)\n",
    "    foreground = np.rollaxis(np.expand_dims(anchors[quantized], axis=0), axis=0)\n",
    "    background = np.rollaxis(1. - foreground, axis=0)\n",
    "\n",
    "    # (1, 512, 512) + (1, 512, 512) -> (2, 512, 512)\n",
    "    return np.concatenate((background, foreground), axis=0)\n"
   ]
  },
  {
   "cell_type": "code",
   "execution_count": 13,
   "metadata": {},
   "outputs": [],
   "source": [
    "probs_path = ['/Users/stouzani/Desktop/Unstructured_ML/Cities_projects/SF_test/prediction/diecewce/probs/']\n",
    "masks_path = '/Users/stouzani/Desktop/Unstructured_ML/Cities_projects/SF_test/prediction/diecewce/masks_probs5'"
   ]
  },
  {
   "cell_type": "code",
   "execution_count": 15,
   "metadata": {},
   "outputs": [],
   "source": [
    "#get_masks_from_probs(probs_path, masks_path)"
   ]
  },
  {
   "cell_type": "code",
   "execution_count": 16,
   "metadata": {},
   "outputs": [],
   "source": [
    "probs_path2 = ['/Users/stouzani/Desktop/Unstructured_ML/Cities_projects/SF_test/prediction/diecewce/probs/',\n",
    "              '/Users/stouzani/Desktop/Unstructured_ML/Cities_projects/SF_test/prediction/diecece/probs/']\n",
    "\n",
    "masks_path2 = '/Users/stouzani/Desktop/Unstructured_ML/Cities_projects/SF_test/prediction/diecewce/masks_probs6'\n",
    "\n",
    "weights = [.85,.15]"
   ]
  },
  {
   "cell_type": "code",
   "execution_count": 19,
   "metadata": {},
   "outputs": [],
   "source": [
    "#get_masks_from_probs(probs_path2, masks_path2,weights)"
   ]
  },
  {
   "cell_type": "code",
   "execution_count": 20,
   "metadata": {},
   "outputs": [],
   "source": [
    "def get_masks_from_probs2(probs_path, masks_path,weights=None, num_workers = 4):\n",
    "   \n",
    "    \"\"\"generate masks from probabilities files\n",
    "\n",
    "    Args:\n",
    "      probs_path: list of the directory with probabilities files that have a name with aslippy map structure \"z_x_y.png\"\n",
    "      masks_path: directory where the masks will be saved\n",
    "      weights: array-like for weighting probabilities\n",
    "\n",
    "    \"\"\"\n",
    "    if weights and len(probs_path) != len(weights):\n",
    "        sys.exit(\"Error: number of probs directories and weights must be the same\")\n",
    "\n",
    "    os.makedirs(masks_path, exist_ok=True)\n",
    "\n",
    "    tilesets = map(tiles_from_directory, probs_path)\n",
    "    list_tilesets = list(zip(*tilesets))\n",
    "\n",
    "    with futures.ThreadPoolExecutor(num_workers) as executor:\n",
    "\n",
    "        def worker(tileset):\n",
    "            anchors = np.linspace(0, 1, 256)\n",
    "\n",
    "            try:\n",
    "                tiles = [tile for tile, _ in tileset]\n",
    "                paths = [path for _, path in tileset]\n",
    "                assert len(set(tiles)), \"tilesets ont sync\"\n",
    "\n",
    "            except OSError:\n",
    "                    return tiles, False\n",
    "\n",
    "            x, y, z = tiles[0]\n",
    "            probs = [probs_load(path,anchors) for path in paths]\n",
    "            mask = softvote(probs, axis=0, weights=weights)\n",
    "            mask = mask.astype(np.uint8)\n",
    "\n",
    "            palette = make_palette(\"denim\", \"orange\")\n",
    "            out = Image.fromarray(mask, mode=\"P\")\n",
    "            out.putpalette(palette)\n",
    "        \n",
    "            path = os.path.join(masks_path,\"{}_{}_{}.{}\".format(z,x,y,\"png\"))\n",
    "            out.save(path, optimize=True)\n",
    "\n",
    "            return tiles, True \n",
    "        for tiles, ok in executor.map(worker, list_tilesets):\n",
    "            if not ok:\n",
    "                print(\"Warning: {} tilesets ont sync\".format(tiles), file=sys.stderr)\n"
   ]
  },
  {
   "cell_type": "code",
   "execution_count": 22,
   "metadata": {},
   "outputs": [
    {
     "name": "stdout",
     "output_type": "stream",
     "text": [
      "/Users/stouzani/Desktop/Unstructured_ML/Cities_projects/SF_test/prediction/diecewce/probs/\n",
      "/Users/stouzani/Desktop/Unstructured_ML/Cities_projects/SF_test/prediction/diecece/probs/\n"
     ]
    }
   ],
   "source": [
    "import concurrent.futures as futures\n",
    "probs_path2 = ['/Users/stouzani/Desktop/Unstructured_ML/Cities_projects/SF_test/prediction/diecewce/probs/',\n",
    "              '/Users/stouzani/Desktop/Unstructured_ML/Cities_projects/SF_test/prediction/diecece/probs/']\n",
    "\n",
    "masks_path2 = '/Users/stouzani/Desktop/Unstructured_ML/Cities_projects/SF_test/prediction/diecewce/masks_probs7'\n",
    "\n",
    "weights = [.85,.15]\n",
    "\n",
    "get_masks_from_probs2(probs_path2, masks_path2,weights, num_workers=4)"
   ]
  },
  {
   "cell_type": "code",
   "execution_count": null,
   "metadata": {},
   "outputs": [],
   "source": []
  },
  {
   "cell_type": "code",
   "execution_count": null,
   "metadata": {},
   "outputs": [],
   "source": []
  },
  {
   "cell_type": "code",
   "execution_count": null,
   "metadata": {},
   "outputs": [],
   "source": []
  },
  {
   "cell_type": "markdown",
   "metadata": {},
   "source": [
    "# Test treshold on probs"
   ]
  },
  {
   "cell_type": "code",
   "execution_count": 97,
   "metadata": {},
   "outputs": [],
   "source": [
    "def probs_load(path,anchors, threshold = None):\n",
    "    # Note: assumes binary case and probability sums up to one.\n",
    "\n",
    "    quantized = np.array(Image.open(path).convert(\"P\"))\n",
    "\n",
    "    # (512, 512, 1) -> (1, 512, 512)\n",
    "    foreground = np.rollaxis(np.expand_dims(anchors[quantized], axis=0), axis=0)\n",
    "    if threshold:\n",
    "        print(\"Hello World\")\n",
    "        foreground[foreground < threshold] = 0\n",
    "    background = np.rollaxis(1. - foreground, axis=0)\n",
    "\n",
    "    # (1, 512, 512) + (1, 512, 512) -> (2, 512, 512)\n",
    "    return np.concatenate((background, foreground), axis=0)"
   ]
  },
  {
   "cell_type": "code",
   "execution_count": 98,
   "metadata": {},
   "outputs": [],
   "source": [
    "anchors = np.linspace(0, 1, 256)\n",
    "path_probs = '/Users/stouzani/Desktop/Unstructured_ML/Cities_projects/SF_test/prediction/diecewce/probs/19_83727_202641.png'"
   ]
  },
  {
   "cell_type": "code",
   "execution_count": 99,
   "metadata": {},
   "outputs": [
    {
     "name": "stdout",
     "output_type": "stream",
     "text": [
      "Hello World\n"
     ]
    }
   ],
   "source": [
    "probs = probs_load(path_probs,anchors,threshold=0.85)"
   ]
  },
  {
   "cell_type": "code",
   "execution_count": 100,
   "metadata": {},
   "outputs": [
    {
     "data": {
      "text/plain": [
       "(2, 512, 512)"
      ]
     },
     "execution_count": 100,
     "metadata": {},
     "output_type": "execute_result"
    }
   ],
   "source": [
    "probs.shape"
   ]
  },
  {
   "cell_type": "code",
   "execution_count": 101,
   "metadata": {},
   "outputs": [],
   "source": [
    "from matplotlib import pyplot as plt\n"
   ]
  },
  {
   "cell_type": "code",
   "execution_count": 102,
   "metadata": {},
   "outputs": [],
   "source": [
    "plt.rcParams['figure.figsize'] = [10, 10]"
   ]
  },
  {
   "cell_type": "code",
   "execution_count": 103,
   "metadata": {},
   "outputs": [
    {
     "data": {
      "image/png": "[encoded data removed]",
      "text/plain": [
       "<Figure size 720x720 with 2 Axes>"
      ]
     },
     "metadata": {
      "needs_background": "light"
     },
     "output_type": "display_data"
    }
   ],
   "source": [
    "plt.imshow(probs[1,:,:], interpolation='nearest')\n",
    "plt.colorbar()\n",
    "plt.show()"
   ]
  },
  {
   "cell_type": "code",
   "execution_count": 53,
   "metadata": {},
   "outputs": [],
   "source": []
  },
  {
   "cell_type": "code",
   "execution_count": null,
   "metadata": {},
   "outputs": [],
   "source": []
  },
  {
   "cell_type": "code",
   "execution_count": 104,
   "metadata": {},
   "outputs": [],
   "source": [
    "import csv\n",
    "import io\n",
    "import os\n",
    "import sys\n",
    "import mercantile\n",
    "import concurrent.futures as futures\n",
    "import numpy as np\n",
    "from tqdm import tqdm\n",
    "from PIL import Image\n",
    "from common.colors import make_palette\n",
    "\n",
    "\n",
    "def get_masks_from_probs(probs_path, pred_masks_path,weights=None, probs_threshold= None, num_workers = 4):\n",
    "   \n",
    "    \"\"\"generate masks from probabilities files\n",
    "\n",
    "    Args:\n",
    "      probs_path: list of the directory with probabilities files that have a name with aslippy map structure \"z_x_y.png\"\n",
    "      pred_masks_path: directory where the masks will be saved\n",
    "      weights: array-like for weighting probabilities\n",
    "\n",
    "    \"\"\"\n",
    "    if weights and len(probs_path) != len(weights):\n",
    "        sys.exit(\"Error: number of probs directories and weights must be the same\")\n",
    "\n",
    "    os.makedirs(pred_masks_path, exist_ok=True)\n",
    "\n",
    "    tilesets = map(tiles_from_directory, probs_path)\n",
    "    list_tilesets = list(zip(*tilesets))\n",
    "\n",
    "    with futures.ThreadPoolExecutor(num_workers) as executor:\n",
    "\n",
    "        def worker(tileset):\n",
    "            anchors = np.linspace(0, 1, 256)\n",
    "\n",
    "            try:\n",
    "                tiles = [tile for tile, _ in tileset]\n",
    "                paths = [path for _, path in tileset]\n",
    "                assert len(set(tiles)), \"tilesets ont sync\"\n",
    "\n",
    "            except OSError:\n",
    "                    return tiles, False\n",
    "\n",
    "            x, y, z = tiles[0]\n",
    "            probs = [probs_load(path,anchors,probs_threshold) for path in paths]\n",
    "            mask = softvote(probs, axis=0, weights=weights)\n",
    "            mask = mask.astype(np.uint8)\n",
    "\n",
    "            palette = make_palette(\"denim\", \"orange\")\n",
    "            out = Image.fromarray(mask, mode=\"P\")\n",
    "            out.putpalette(palette)\n",
    "        \n",
    "            path = os.path.join(pred_masks_path,\"{}_{}_{}.{}\".format(z,x,y,\"png\"))\n",
    "            out.save(path, optimize=True)\n",
    "\n",
    "            return tiles, True \n",
    "        for tiles, ok in executor.map(worker, list_tilesets):\n",
    "            if not ok:\n",
    "                print(\"Warning: {} tilesets ont sync\".format(tiles), file=sys.stderr)\n",
    "\n",
    "\n",
    "def tiles_from_directory(dir_path):\n",
    "    \"\"\"Loads files from a directory\n",
    "\n",
    "    Args:\n",
    "      root: the  directory with files that have a name with aslippy map structure \"z_x_y.*\"\"\n",
    "\n",
    "    Yields:\n",
    "      The mercantile tiles and file paths\n",
    "    \"\"\"\n",
    "    def isdigit(v):\n",
    "        try:\n",
    "            _ = int(v)  # noqa: F841\n",
    "            return True\n",
    "        except ValueError:\n",
    "            return False\n",
    "        \n",
    "    for name in os.listdir(dir_path):\n",
    "        tile_name = os.path.splitext(name)[0]\n",
    "        tile_name = tile_name.split(\"_\")\n",
    "        if not isdigit(tile_name[0]):\n",
    "            continue\n",
    "        x=int(tile_name[1])\n",
    "        y=int(tile_name[2])\n",
    "        z=int(tile_name[0])\n",
    "        tile = mercantile.Tile(x=x, y=y, z=z)\n",
    "        path = os.path.join(dir_path,\"{}_{}_{}.{}\".format(z,x,y,\"png\"))\n",
    "        yield tile, path\n",
    "\n",
    "\n",
    "def softvote(probs, axis=0, weights=None):\n",
    "    \"\"\"Weighted average soft-voting to transform class probabilities into class indices.\n",
    "\n",
    "    Args:\n",
    "      probs: array-like probabilities to average.\n",
    "      axis: axis or axes along which to soft-vote.\n",
    "      weights: array-like for weighting probabilities.\n",
    "\n",
    "    Notes:\n",
    "      See http://scikit-learn.org/stable/modules/ensemble.html#weighted-average-probabilities-soft-voting\n",
    "    \"\"\"\n",
    "\n",
    "    return np.argmax(np.average(probs, axis=axis, weights=weights), axis=axis)\n",
    "\n",
    "def probs_load(path,anchors, threshold = None):\n",
    "    # Note: assumes binary case and probability sums up to one.\n",
    "\n",
    "    quantized = np.array(Image.open(path).convert(\"P\"))\n",
    "\n",
    "    # (512, 512, 1) -> (1, 512, 512)\n",
    "    foreground = np.rollaxis(np.expand_dims(anchors[quantized], axis=0), axis=0)\n",
    "    if threshold:\n",
    "        foreground[foreground < threshold] = 0\n",
    "    background = np.rollaxis(1. - foreground, axis=0)\n",
    "\n",
    "    # (1, 512, 512) + (1, 512, 512) -> (2, 512, 512)\n",
    "    return np.concatenate((background, foreground), axis=0)"
   ]
  },
  {
   "cell_type": "code",
   "execution_count": 105,
   "metadata": {},
   "outputs": [],
   "source": [
    "probs_path = ['/Users/stouzani/Desktop/Unstructured_ML/Cities_projects/SF_test/prediction/diecewce/probs/']\n",
    "masks_path = '/Users/stouzani/Desktop/Unstructured_ML/Cities_projects/SF_test/prediction/diecewce/masks_probs8'"
   ]
  },
  {
   "cell_type": "code",
   "execution_count": null,
   "metadata": {},
   "outputs": [],
   "source": [
    "get_masks_from_probs(probs_path, masks_path, probs_threshold=0.85, num_workers=4)"
   ]
  },
  {
   "cell_type": "code",
   "execution_count": 92,
   "metadata": {},
   "outputs": [],
   "source": []
  },
  {
   "cell_type": "code",
   "execution_count": null,
   "metadata": {},
   "outputs": [],
   "source": []
  },
  {
   "cell_type": "code",
   "execution_count": null,
   "metadata": {},
   "outputs": [],
   "source": []
  },
  {
   "cell_type": "code",
   "execution_count": null,
   "metadata": {},
   "outputs": [],
   "source": []
  }
 ],
 "metadata": {
  "kernelspec": {
   "display_name": "Python (GIS)",
   "language": "python",
   "name": "gis"
  },
  "language_info": {
   "codemirror_mode": {
    "name": "ipython",
    "version": 3
   },
   "file_extension": ".py",
   "mimetype": "text/x-python",
   "name": "python",
   "nbconvert_exporter": "python",
   "pygments_lexer": "ipython3",
   "version": "3.7.1"
  }
 },
 "nbformat": 4,
 "nbformat_minor": 2
}
