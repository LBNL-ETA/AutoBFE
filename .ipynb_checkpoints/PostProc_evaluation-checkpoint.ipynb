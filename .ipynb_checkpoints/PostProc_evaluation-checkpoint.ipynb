{
 "cells": [
  {
   "cell_type": "code",
   "execution_count": 1,
   "metadata": {},
   "outputs": [],
   "source": [
    "from dataprep.getdata import SatMask\n",
    "from postproc.postprocessing import *"
   ]
  },
  {
   "cell_type": "code",
   "execution_count": 7,
   "metadata": {},
   "outputs": [],
   "source": [
    "path = \"/Users/stouzani/Desktop/Unstructured_ML/Cities_projects/Newark_project/Data/\"\n",
    "features_path = path + \"poly_masks_merged.geojson\"\n",
    "tiles_cover_path = path + \"Newark_bldgs.csv\"\n",
    "zoom = 19\n",
    "size = 512\n",
    "url_map = \"https://api.mapbox.com/v4/mapbox.satellite/{z}/{x}/{y}@2x.jpg?access_token=pk.eyJ1Ijoic3RvdXphbmkiLCJhIjoiY2pzMTRtMzEzMDh5bjN5bzg2eDQ0N3FhYiJ9.5KKMQV5Qgl2ETj36mn4UXg\"\n",
    "image_format = \"jpg\"\n",
    "mask_format = \"png\"\n",
    "sat_path = path + \"images/\"\n",
    "num_workers = 10\n",
    "rast_path = path + \"masks_pred_merged/\""
   ]
  },
  {
   "cell_type": "code",
   "execution_count": 8,
   "metadata": {},
   "outputs": [],
   "source": [
    "satmask = SatMask(url_mapbox = url_map, image_format = image_format, \n",
    "                  mask_format = mask_format, tiles_cover_path = tiles_cover_path, \n",
    "                  sat_path = sat_path, gis_path = features_path, masks_path = rast_path, \n",
    "                  zoom = zoom, size = size ,num_workers = num_workers)"
   ]
  },
  {
   "cell_type": "code",
   "execution_count": 9,
   "metadata": {},
   "outputs": [],
   "source": [
    "colors  = ['denim', 'orange']\n",
    "#satmask.map_feature(colors)"
   ]
  },
  {
   "cell_type": "code",
   "execution_count": 2,
   "metadata": {},
   "outputs": [],
   "source": [
    "masks_path = '/Users/stouzani/Desktop/Unstructured_ML/Cities_projects/Newark_project/Data/masks'\n",
    "pred_masks_path = '/Users/stouzani/Desktop/Unstructured_ML/Cities_projects/Newark_project/Data/masks_pred_merged'"
   ]
  },
  {
   "cell_type": "code",
   "execution_count": 3,
   "metadata": {},
   "outputs": [
    {
     "name": "stdout",
     "output_type": "stream",
     "text": [
      "Test:\n",
      "Acc:0.9016879358280214, Acc_class:0.8396813284196065, mIoU:0.769327766666291, fwIoU: 0.819267408520364, F1Score: 0.7953088743690628, Recall: 0.7041566799857468, Precision: 0.9135705610660124\n"
     ]
    }
   ],
   "source": [
    "postproc_evaluation(pred_masks_path,masks_path,2)"
   ]
  },
  {
   "cell_type": "markdown",
   "metadata": {},
   "source": [
    "# Expand the polygons\n"
   ]
  },
  {
   "cell_type": "code",
   "execution_count": 5,
   "metadata": {},
   "outputs": [
    {
     "data": {
      "text/plain": [
       "(55254, 2)"
      ]
     },
     "execution_count": 5,
     "metadata": {},
     "output_type": "execute_result"
    }
   ],
   "source": [
    "import geopandas as gpd\n",
    "gdf_newark_merged = gpd.read_file( \"/Users/stouzani/Desktop/Unstructured_ML/Cities_projects/Newark_project/Data/poly_masks_merged.geojson\")\n",
    "gdf_newark_merged.shape"
   ]
  },
  {
   "cell_type": "code",
   "execution_count": 6,
   "metadata": {},
   "outputs": [],
   "source": [
    "gdf_newark_merged['geometry'] = [gpd.GeoSeries(x).scale(xfact=1.04, yfact=1.04)[0] for x in gdf_newark_merged['geometry']]"
   ]
  },
  {
   "cell_type": "code",
   "execution_count": 7,
   "metadata": {},
   "outputs": [
    {
     "name": "stderr",
     "output_type": "stream",
     "text": [
      "/anaconda3/envs/GIS/lib/python3.7/site-packages/geopandas/io/file.py:108: FionaDeprecationWarning: Use fiona.Env() instead.\n",
      "  with fiona.drivers():\n"
     ]
    }
   ],
   "source": [
    "gdf_newark_merged.to_file(driver = 'GeoJSON', filename= '/Users/stouzani/Desktop/Unstructured_ML/Cities_projects/Newark_project/Data/poly_masks_merged_exp_1_04.geojson')"
   ]
  },
  {
   "cell_type": "code",
   "execution_count": null,
   "metadata": {},
   "outputs": [],
   "source": [
    "path = \"/Users/stouzani/Desktop/Unstructured_ML/Cities_projects/Newark_project/Data/\"\n",
    "features_path = path + \"poly_masks_merged_exp_1_04.geojson\"\n",
    "tiles_cover_path = path + \"Newark_bldgs.csv\"\n",
    "zoom = 19\n",
    "size = 512\n",
    "url_map = \"https://api.mapbox.com/v4/mapbox.satellite/{z}/{x}/{y}@2x.jpg?access_token=pk.eyJ1Ijoic3RvdXphbmkiLCJhIjoiY2pzMTRtMzEzMDh5bjN5bzg2eDQ0N3FhYiJ9.5KKMQV5Qgl2ETj36mn4UXg\"\n",
    "image_format = \"jpg\"\n",
    "mask_format = \"png\"\n",
    "sat_path = path + \"images/\"\n",
    "num_workers = 10\n",
    "rast_path = path + \"masks_pred_merged_exp_1_04/\""
   ]
  }
 ],
 "metadata": {
  "kernelspec": {
   "display_name": "Python (GIS)",
   "language": "python",
   "name": "gis"
  },
  "language_info": {
   "codemirror_mode": {
    "name": "ipython",
    "version": 3
   },
   "file_extension": ".py",
   "mimetype": "text/x-python",
   "name": "python",
   "nbconvert_exporter": "python",
   "pygments_lexer": "ipython3",
   "version": "3.7.1"
  }
 },
 "nbformat": 4,
 "nbformat_minor": 2
}
