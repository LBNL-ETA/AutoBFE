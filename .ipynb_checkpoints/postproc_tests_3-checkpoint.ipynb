{
 "cells": [
  {
   "cell_type": "code",
   "execution_count": 10,
   "metadata": {},
   "outputs": [],
   "source": [
    "import cv2\n",
    "import numpy as np\n",
    "from PIL import Image\n",
    "from matplotlib import pyplot as plt\n",
    "plt.rcParams['figure.figsize'] = [10, 10]"
   ]
  },
  {
   "cell_type": "code",
   "execution_count": null,
   "metadata": {},
   "outputs": [],
   "source": []
  },
  {
   "cell_type": "code",
   "execution_count": 2,
   "metadata": {},
   "outputs": [],
   "source": [
    "def denoise(mask, eps):\n",
    "    \"\"\"Removes noise from a mask.\n",
    "\n",
    "    Args:\n",
    "      mask: the mask to remove noise from.\n",
    "      eps: the morphological operation's kernel size for noise removal, in pixel.\n",
    "\n",
    "    Returns:\n",
    "      The mask after applying denoising.\n",
    "    \"\"\"\n",
    "\n",
    "    struct = cv2.getStructuringElement(cv2.MORPH_ELLIPSE, (eps, eps))\n",
    "    return cv2.morphologyEx(mask, cv2.MORPH_OPEN, struct)\n",
    "\n",
    "def grow(mask, eps):\n",
    "    \"\"\"Grows a mask to fill in small holes, e.g. to establish connectivity.\n",
    "\n",
    "    Args:\n",
    "      mask: the mask to grow.\n",
    "      eps: the morphological operation's kernel size for growing, in pixel.\n",
    "\n",
    "    Returns:\n",
    "      The mask after filling in small holes.\n",
    "    \"\"\"\n",
    "\n",
    "    struct = cv2.getStructuringElement(cv2.MORPH_ELLIPSE, (eps, eps))\n",
    "    return cv2.morphologyEx(mask, cv2.MORPH_CLOSE, struct)"
   ]
  },
  {
   "cell_type": "code",
   "execution_count": 3,
   "metadata": {},
   "outputs": [],
   "source": [
    "path_mask = '/Users/stouzani/Desktop/Unstructured_ML/Cities_projects/SF_test/prediction/diecewce/masks_probs/19_83727_202637.png'"
   ]
  },
  {
   "cell_type": "code",
   "execution_count": 4,
   "metadata": {},
   "outputs": [],
   "source": [
    "image = np.array(Image.open(path_mask).convert(\"P\"), dtype=np.uint8)"
   ]
  },
  {
   "cell_type": "code",
   "execution_count": 5,
   "metadata": {},
   "outputs": [
    {
     "data": {
      "text/plain": [
       "(512, 512)"
      ]
     },
     "execution_count": 5,
     "metadata": {},
     "output_type": "execute_result"
    }
   ],
   "source": [
    "image.shape"
   ]
  },
  {
   "cell_type": "code",
   "execution_count": 6,
   "metadata": {},
   "outputs": [
    {
     "data": {
      "image/png": "[encoded data removed]",
      "text/plain": [
       "<Figure size 432x288 with 1 Axes>"
      ]
     },
     "metadata": {
      "needs_background": "light"
     },
     "output_type": "display_data"
    }
   ],
   "source": [
    "plt.imshow(image, interpolation='nearest')\n",
    "plt.show()"
   ]
  },
  {
   "cell_type": "code",
   "execution_count": 7,
   "metadata": {},
   "outputs": [],
   "source": [
    "kernel_size_denoise = 25\n",
    "mask1 = denoise(image,kernel_size_denoise)"
   ]
  },
  {
   "cell_type": "code",
   "execution_count": 8,
   "metadata": {},
   "outputs": [
    {
     "data": {
      "image/png": "[encoded data removed]",
      "text/plain": [
       "<Figure size 432x288 with 1 Axes>"
      ]
     },
     "metadata": {
      "needs_background": "light"
     },
     "output_type": "display_data"
    }
   ],
   "source": [
    "plt.imshow(mask1, interpolation='nearest')\n",
    "plt.show()"
   ]
  },
  {
   "cell_type": "code",
   "execution_count": 9,
   "metadata": {},
   "outputs": [
    {
     "data": {
      "image/png": "[encoded data removed]",
      "text/plain": [
       "<Figure size 432x288 with 1 Axes>"
      ]
     },
     "metadata": {
      "needs_background": "light"
     },
     "output_type": "display_data"
    }
   ],
   "source": [
    "kernel_size_grow = 20\n",
    "mask2 = denoise(mask1,kernel_size_grow)\n",
    "plt.imshow(mask2, interpolation='nearest')\n",
    "plt.show()"
   ]
  },
  {
   "cell_type": "code",
   "execution_count": 11,
   "metadata": {},
   "outputs": [],
   "source": [
    "struct = cv2.getStructuringElement(cv2.MORPH_ELLIPSE, (5, 5))"
   ]
  },
  {
   "cell_type": "code",
   "execution_count": 12,
   "metadata": {},
   "outputs": [
    {
     "data": {
      "image/png": "[encoded data removed]",
      "text/plain": [
       "<Figure size 720x720 with 1 Axes>"
      ]
     },
     "metadata": {
      "needs_background": "light"
     },
     "output_type": "display_data"
    }
   ],
   "source": [
    "erosion = cv2.erode(image,struct,iterations = 1)\n",
    "plt.imshow(erosion, interpolation='nearest')\n",
    "plt.show()"
   ]
  },
  {
   "cell_type": "code",
   "execution_count": 13,
   "metadata": {},
   "outputs": [],
   "source": [
    "from skimage.transform import resize\n",
    "from skimage.morphology import erosion, dilation, rectangle\n",
    "from scipy import ndimage as ndi"
   ]
  },
  {
   "cell_type": "code",
   "execution_count": 14,
   "metadata": {},
   "outputs": [],
   "source": [
    "def erode_image(mask, erode_selem_size):\n",
    "    \"\"\"Erode mask.\n",
    "\n",
    "    Args:\n",
    "        mask (numpy.ndarray): Mask of shape (H x W) or multiple masks of shape (C x H x W).\n",
    "        erode_selem_size (int): Size of rectangle structuring element used for erosion.\n",
    "\n",
    "    Returns:\n",
    "        numpy.ndarray: Eroded mask of shape (H x W) or multiple masks of shape (C x H x W).\n",
    "\n",
    "    \"\"\"\n",
    "    if not erode_selem_size > 0:\n",
    "        return mask\n",
    "    selem = rectangle(erode_selem_size, erode_selem_size)\n",
    "    if mask.ndim == 2:\n",
    "        eroded_image = erosion(mask, selem=selem)\n",
    "    else:\n",
    "        eroded_image = []\n",
    "        for category_mask in mask:\n",
    "            eroded_image.append(erosion(category_mask, selem=selem))\n",
    "            eroded_image = np.stack(eroded_image)\n",
    "    return add_dropped_objects(mask, eroded_image)\n",
    "\n",
    "def label(mask):\n",
    "    labeled, nr_true = ndi.label(mask)\n",
    "    return labeled\n",
    "\n",
    "def add_dropped_objects(original, processed):\n",
    "    reconstructed = processed.copy()\n",
    "    labeled = label(original)\n",
    "    for i in range(1, labeled.max() + 1):\n",
    "        if not np.any(np.where((labeled == i) & processed)):\n",
    "            reconstructed += (labeled == i)\n",
    "    return reconstructed.astype('uint8')"
   ]
  },
  {
   "cell_type": "code",
   "execution_count": 15,
   "metadata": {},
   "outputs": [],
   "source": [
    "mask4 = erode_image(image,erode_selem_size =10)"
   ]
  },
  {
   "cell_type": "code",
   "execution_count": 16,
   "metadata": {},
   "outputs": [
    {
     "data": {
      "image/png": "[encoded data removed]",
      "text/plain": [
       "<Figure size 720x720 with 1 Axes>"
      ]
     },
     "metadata": {
      "needs_background": "light"
     },
     "output_type": "display_data"
    }
   ],
   "source": [
    "plt.imshow(mask4, interpolation='nearest')\n",
    "plt.show()"
   ]
  },
  {
   "cell_type": "code",
   "execution_count": 17,
   "metadata": {},
   "outputs": [],
   "source": [
    "def contours(mask):\n",
    "    \"\"\"Extracts contours and the relationship between them from a binary mask.\n",
    "\n",
    "    Args:\n",
    "      mask: the binary mask to find contours in.\n",
    "\n",
    "    Returns:\n",
    "      The detected contours as a list of points and the contour hierarchy.\n",
    "\n",
    "    Note: the hierarchy can be used to re-construct polygons with holes as one entity.\n",
    "    \"\"\"\n",
    "\n",
    "    contours, hierarchy = cv2.findContours(mask, cv2.RETR_TREE, cv2.CHAIN_APPROX_SIMPLE)\n",
    "    return contours, hierarchy"
   ]
  },
  {
   "cell_type": "code",
   "execution_count": 18,
   "metadata": {},
   "outputs": [],
   "source": [
    "\n",
    "multipolygons, hierarchy = contours(mask1)"
   ]
  },
  {
   "cell_type": "code",
   "execution_count": 19,
   "metadata": {},
   "outputs": [],
   "source": [
    "mask_cont = cv2.drawContours(mask1, multipolygons, -1, (0, 255, 0), 3)\n"
   ]
  },
  {
   "cell_type": "code",
   "execution_count": 20,
   "metadata": {},
   "outputs": [],
   "source": [
    "canvas = np.zeros((512,512), np.uint8)\n",
    "mask_cont2 = cv2.drawContours(canvas, multipolygons, contourIdx=-1, color=1)"
   ]
  },
  {
   "cell_type": "code",
   "execution_count": 21,
   "metadata": {},
   "outputs": [
    {
     "data": {
      "image/png": "[encoded data removed]",
      "text/plain": [
       "<Figure size 720x720 with 1 Axes>"
      ]
     },
     "metadata": {
      "needs_background": "light"
     },
     "output_type": "display_data"
    }
   ],
   "source": [
    "plt.imshow(mask_cont2, interpolation='nearest')\n",
    "plt.show()"
   ]
  },
  {
   "cell_type": "code",
   "execution_count": 22,
   "metadata": {},
   "outputs": [
    {
     "data": {
      "image/png": "[encoded data removed]",
      "text/plain": [
       "<Figure size 720x720 with 1 Axes>"
      ]
     },
     "metadata": {
      "needs_background": "light"
     },
     "output_type": "display_data"
    }
   ],
   "source": [
    "plt.imshow(mask1, interpolation='nearest')\n",
    "plt.show()"
   ]
  },
  {
   "cell_type": "code",
   "execution_count": 23,
   "metadata": {},
   "outputs": [],
   "source": [
    "hierarchy = hierarchy[0]\n"
   ]
  },
  {
   "cell_type": "code",
   "execution_count": 24,
   "metadata": {},
   "outputs": [],
   "source": [
    "def simplify(polygon, eps):\n",
    "    \"\"\"Simplifies a polygon to minimize the polygon's vertices.\n",
    "\n",
    "    Args:\n",
    "      polygon: the polygon made up of a list of vertices.\n",
    "      eps: the approximation accuracy as max. percentage of the arc length, in [0, 1]\n",
    "\n",
    "    \"\"\"\n",
    "\n",
    "    assert 0 <= eps <= 1, \"approximation accuracy is percentage in [0, 1]\"\n",
    "\n",
    "    epsilon = eps * cv2.arcLength(polygon, closed=True)\n",
    "    return cv2.approxPolyDP(polygon, epsilon=epsilon, closed=True)"
   ]
  },
  {
   "cell_type": "code",
   "execution_count": 25,
   "metadata": {},
   "outputs": [],
   "source": [
    "simplify_threshold = 0.01\n",
    "polygons2 = [simplify(polygon, simplify_threshold) for polygon in multipolygons]"
   ]
  },
  {
   "cell_type": "code",
   "execution_count": 28,
   "metadata": {},
   "outputs": [],
   "source": [
    "canvas = np.zeros((512,512), np.uint8)\n",
    "polyproxy= cv2.drawContours(canvas, polygons2, -1, (0, 0, 255), 3)"
   ]
  },
  {
   "cell_type": "code",
   "execution_count": 29,
   "metadata": {},
   "outputs": [
    {
     "data": {
      "image/png": "[encoded data removed]",
      "text/plain": [
       "<Figure size 720x720 with 1 Axes>"
      ]
     },
     "metadata": {
      "needs_background": "light"
     },
     "output_type": "display_data"
    }
   ],
   "source": [
    "plt.imshow(polyproxy, interpolation='nearest')\n",
    "plt.show()"
   ]
  },
  {
   "cell_type": "code",
   "execution_count": null,
   "metadata": {},
   "outputs": [],
   "source": []
  },
  {
   "cell_type": "code",
   "execution_count": null,
   "metadata": {},
   "outputs": [],
   "source": []
  }
 ],
 "metadata": {
  "kernelspec": {
   "display_name": "Python (GIS)",
   "language": "python",
   "name": "gis"
  },
  "language_info": {
   "codemirror_mode": {
    "name": "ipython",
    "version": 3
   },
   "file_extension": ".py",
   "mimetype": "text/x-python",
   "name": "python",
   "nbconvert_exporter": "python",
   "pygments_lexer": "ipython3",
   "version": "3.7.1"
  }
 },
 "nbformat": 4,
 "nbformat_minor": 2
}
